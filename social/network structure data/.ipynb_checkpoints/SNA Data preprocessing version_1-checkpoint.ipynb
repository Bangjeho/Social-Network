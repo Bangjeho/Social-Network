{
 "cells": [
  {
   "cell_type": "code",
   "execution_count": 225,
   "metadata": {},
   "outputs": [],
   "source": [
    "import numpy as np\n",
    "import pandas as pd"
   ]
  },
  {
   "cell_type": "code",
   "execution_count": 226,
   "metadata": {},
   "outputs": [],
   "source": [
    "group_1 = pd.read_csv(\"group_1.csv\")\n",
    "group_2 = pd.read_csv(\"group_2.csv\")\n",
    "group_3 = pd.read_csv(\"group_3.csv\")\n",
    "group_4 = pd.read_csv(\"group_4.csv\")\n",
    "group_5 = pd.read_csv(\"group_5.csv\")"
   ]
  },
  {
   "cell_type": "code",
   "execution_count": 227,
   "metadata": {},
   "outputs": [],
   "source": [
    "group_1 = group_1.set_index('Unnamed: 0')\n",
    "group_2 = group_2.set_index('Unnamed: 0')\n",
    "group_3 = group_3.set_index('Unnamed: 0')\n",
    "group_4 = group_4.set_index('Unnamed: 0')\n",
    "group_5 = group_5.set_index('Unnamed: 0')"
   ]
  },
  {
   "cell_type": "code",
   "execution_count": 228,
   "metadata": {},
   "outputs": [],
   "source": [
    "group_1['count'] = 1\n",
    "group_2['count'] = 2\n",
    "group_3['count'] = 3\n",
    "group_4['count'] = 4\n",
    "group_5['count'] = 5"
   ]
  },
  {
   "cell_type": "code",
   "execution_count": 229,
   "metadata": {},
   "outputs": [],
   "source": [
    "group_1 = group_1.groupby(['business','category']).count()\n",
    "group_2 = group_2.groupby(['business','category']).count()\n",
    "group_3 = group_3.groupby(['business','category']).count()\n",
    "group_4 = group_4.groupby(['business','category']).count()\n",
    "group_5 = group_5.groupby(['business','category']).count()"
   ]
  },
  {
   "cell_type": "code",
   "execution_count": 232,
   "metadata": {},
   "outputs": [],
   "source": [
    "group_1count = group_1[['count']]\n",
    "group_2count = group_2[['count']]\n",
    "group_3count = group_3[['count']]\n",
    "group_4count = group_4[['count']]\n",
    "group_5count = group_5[['count']]"
   ]
  },
  {
   "cell_type": "code",
   "execution_count": 233,
   "metadata": {},
   "outputs": [],
   "source": [
    "group_1count.to_csv('group_1.vec',sep=' ', index = False, header = False)\n",
    "group_2count.to_csv('group_2.vec',sep=' ', index = False, header = False)\n",
    "group_3count.to_csv('group_3.vec',sep=' ', index = False, header = False)\n",
    "group_4count.to_csv('group_4.vec',sep=' ', index = False, header = False)\n",
    "group_5count.to_csv('group_5.vec',sep=' ', index = False, header = False)"
   ]
  },
  {
   "cell_type": "code",
   "execution_count": 190,
   "metadata": {},
   "outputs": [],
   "source": [
    "group_1 = group_1.drop_duplicates()\n",
    "group_2 = group_2.drop_duplicates()\n",
    "group_3 = group_3.drop_duplicates()\n",
    "group_4 = group_4.drop_duplicates()\n",
    "group_5 = group_5.drop_duplicates()"
   ]
  },
  {
   "cell_type": "code",
   "execution_count": 191,
   "metadata": {},
   "outputs": [],
   "source": [
    "group_1.reset_index(drop = True, inplace = True)\n",
    "group_2.reset_index(drop = True, inplace = True)\n",
    "group_3.reset_index(drop = True, inplace = True)\n",
    "group_4.reset_index(drop = True, inplace = True)\n",
    "group_5.reset_index(drop = True, inplace = True)"
   ]
  },
  {
   "cell_type": "code",
   "execution_count": 192,
   "metadata": {},
   "outputs": [],
   "source": [
    "group_1_node = group_1.drop(['category'], axis = 1)\n",
    "group_2_node = group_2.drop(['category'], axis = 1)\n",
    "group_3_node = group_3.drop(['category'], axis = 1)\n",
    "group_4_node = group_4.drop(['category'], axis = 1)\n",
    "group_5_node = group_5.drop(['category'], axis = 1)"
   ]
  },
  {
   "cell_type": "code",
   "execution_count": 193,
   "metadata": {},
   "outputs": [],
   "source": [
    "group_1_node['index'] = 1\n",
    "group_2_node['index'] = 1\n",
    "group_3_node['index'] = 1\n",
    "group_4_node['index'] = 1\n",
    "group_5_node['index'] = 1"
   ]
  },
  {
   "cell_type": "code",
   "execution_count": 194,
   "metadata": {},
   "outputs": [
    {
     "name": "stderr",
     "output_type": "stream",
     "text": [
      "C:\\Users\\entity\\Anaconda3\\envs\\capston_design\\lib\\site-packages\\ipykernel_launcher.py:4: SettingWithCopyWarning: \n",
      "A value is trying to be set on a copy of a slice from a DataFrame\n",
      "\n",
      "See the caveats in the documentation: http://pandas.pydata.org/pandas-docs/stable/user_guide/indexing.html#returning-a-view-versus-a-copy\n",
      "  after removing the cwd from sys.path.\n",
      "C:\\Users\\entity\\Anaconda3\\envs\\capston_design\\lib\\site-packages\\ipykernel_launcher.py:9: SettingWithCopyWarning: \n",
      "A value is trying to be set on a copy of a slice from a DataFrame\n",
      "\n",
      "See the caveats in the documentation: http://pandas.pydata.org/pandas-docs/stable/user_guide/indexing.html#returning-a-view-versus-a-copy\n",
      "  if __name__ == '__main__':\n",
      "C:\\Users\\entity\\Anaconda3\\envs\\capston_design\\lib\\site-packages\\ipykernel_launcher.py:14: SettingWithCopyWarning: \n",
      "A value is trying to be set on a copy of a slice from a DataFrame\n",
      "\n",
      "See the caveats in the documentation: http://pandas.pydata.org/pandas-docs/stable/user_guide/indexing.html#returning-a-view-versus-a-copy\n",
      "  \n",
      "C:\\Users\\entity\\Anaconda3\\envs\\capston_design\\lib\\site-packages\\ipykernel_launcher.py:19: SettingWithCopyWarning: \n",
      "A value is trying to be set on a copy of a slice from a DataFrame\n",
      "\n",
      "See the caveats in the documentation: http://pandas.pydata.org/pandas-docs/stable/user_guide/indexing.html#returning-a-view-versus-a-copy\n",
      "C:\\Users\\entity\\Anaconda3\\envs\\capston_design\\lib\\site-packages\\ipykernel_launcher.py:24: SettingWithCopyWarning: \n",
      "A value is trying to be set on a copy of a slice from a DataFrame\n",
      "\n",
      "See the caveats in the documentation: http://pandas.pydata.org/pandas-docs/stable/user_guide/indexing.html#returning-a-view-versus-a-copy\n"
     ]
    }
   ],
   "source": [
    "index = np.arange(1,len(group_1_node)+1)\n",
    "\n",
    "for i in range(len(group_1_node)):\n",
    "    group_1_node['index'][i] = index[i]\n",
    "    \n",
    "index = np.arange(1,len(group_2_node)+1)\n",
    "\n",
    "for i in range(len(group_2_node)):\n",
    "    group_2_node['index'][i] = index[i]\n",
    "    \n",
    "index = np.arange(1,len(group_3_node)+1)\n",
    "\n",
    "for i in range(len(group_3_node)):\n",
    "    group_3_node['index'][i] = index[i]\n",
    "    \n",
    "index = np.arange(1,len(group_4_node)+1)\n",
    "\n",
    "for i in range(len(group_4_node)):\n",
    "    group_4_node['index'][i] = index[i]\n",
    "    \n",
    "index = np.arange(1,len(group_5_node)+1)\n",
    "\n",
    "for i in range(len(group_5_node)):\n",
    "    group_5_node['index'][i] = index[i]"
   ]
  },
  {
   "cell_type": "code",
   "execution_count": 195,
   "metadata": {},
   "outputs": [],
   "source": [
    "group_1_node = group_1_node.set_index('index')\n",
    "group_2_node = group_2_node.set_index('index')\n",
    "group_3_node = group_3_node.set_index('index')\n",
    "group_4_node = group_4_node.set_index('index')\n",
    "group_5_node = group_5_node.set_index('index')"
   ]
  },
  {
   "cell_type": "code",
   "execution_count": 196,
   "metadata": {},
   "outputs": [],
   "source": [
    "# group_1_node = group_1_node[['business']].add('\"')\n",
    "# group_2_node = group_2_node[['business']].add('\"')\n",
    "# group_3_node = group_3_node[['business']].add('\"')\n",
    "# group_4_node = group_4_node[['business']].add('\"')\n",
    "# group_5_node = group_5_node[['business']].add('\"')"
   ]
  },
  {
   "cell_type": "code",
   "execution_count": 197,
   "metadata": {},
   "outputs": [],
   "source": [
    "group_1['weight'] = 1\n",
    "group_2['weight'] = 1\n",
    "group_3['weight'] = 1\n",
    "group_4['weight'] = 1\n",
    "group_5['weight'] = 1\n",
    "group_1['index'] = 1\n",
    "group_2['index'] = 1\n",
    "group_3['index'] = 1\n",
    "group_4['index'] = 1\n",
    "group_5['index'] = 1"
   ]
  },
  {
   "cell_type": "code",
   "execution_count": 198,
   "metadata": {},
   "outputs": [
    {
     "name": "stderr",
     "output_type": "stream",
     "text": [
      "C:\\Users\\entity\\Anaconda3\\envs\\capston_design\\lib\\site-packages\\ipykernel_launcher.py:4: SettingWithCopyWarning: \n",
      "A value is trying to be set on a copy of a slice from a DataFrame\n",
      "\n",
      "See the caveats in the documentation: http://pandas.pydata.org/pandas-docs/stable/user_guide/indexing.html#returning-a-view-versus-a-copy\n",
      "  after removing the cwd from sys.path.\n",
      "C:\\Users\\entity\\Anaconda3\\envs\\capston_design\\lib\\site-packages\\ipykernel_launcher.py:9: SettingWithCopyWarning: \n",
      "A value is trying to be set on a copy of a slice from a DataFrame\n",
      "\n",
      "See the caveats in the documentation: http://pandas.pydata.org/pandas-docs/stable/user_guide/indexing.html#returning-a-view-versus-a-copy\n",
      "  if __name__ == '__main__':\n",
      "C:\\Users\\entity\\Anaconda3\\envs\\capston_design\\lib\\site-packages\\ipykernel_launcher.py:14: SettingWithCopyWarning: \n",
      "A value is trying to be set on a copy of a slice from a DataFrame\n",
      "\n",
      "See the caveats in the documentation: http://pandas.pydata.org/pandas-docs/stable/user_guide/indexing.html#returning-a-view-versus-a-copy\n",
      "  \n",
      "C:\\Users\\entity\\Anaconda3\\envs\\capston_design\\lib\\site-packages\\ipykernel_launcher.py:19: SettingWithCopyWarning: \n",
      "A value is trying to be set on a copy of a slice from a DataFrame\n",
      "\n",
      "See the caveats in the documentation: http://pandas.pydata.org/pandas-docs/stable/user_guide/indexing.html#returning-a-view-versus-a-copy\n",
      "C:\\Users\\entity\\Anaconda3\\envs\\capston_design\\lib\\site-packages\\ipykernel_launcher.py:24: SettingWithCopyWarning: \n",
      "A value is trying to be set on a copy of a slice from a DataFrame\n",
      "\n",
      "See the caveats in the documentation: http://pandas.pydata.org/pandas-docs/stable/user_guide/indexing.html#returning-a-view-versus-a-copy\n"
     ]
    }
   ],
   "source": [
    "index = np.arange(1,len(group_1)+1)\n",
    "\n",
    "for i in range(len(group_1)):\n",
    "    group_1['index'][i] = index[i]\n",
    "    \n",
    "index = np.arange(1,len(group_2)+1)\n",
    "\n",
    "for i in range(len(group_2)):\n",
    "    group_2['index'][i] = index[i]\n",
    "    \n",
    "index = np.arange(1,len(group_3)+1)\n",
    "\n",
    "for i in range(len(group_3)):\n",
    "    group_3['index'][i] = index[i]\n",
    "    \n",
    "index = np.arange(1,len(group_4)+1)\n",
    "\n",
    "for i in range(len(group_4)):\n",
    "    group_4['index'][i] = index[i]\n",
    "    \n",
    "index = np.arange(1,len(group_5)+1)\n",
    "\n",
    "for i in range(len(group_5)):\n",
    "    group_5['index'][i] = index[i]"
   ]
  },
  {
   "cell_type": "code",
   "execution_count": 199,
   "metadata": {},
   "outputs": [],
   "source": [
    "group_1_edge = group_1.set_index('index')\n",
    "group_2_edge = group_2.set_index('index')\n",
    "group_3_edge = group_3.set_index('index')\n",
    "group_4_edge = group_4.set_index('index')\n",
    "group_5_edge = group_5.set_index('index')"
   ]
  },
  {
   "cell_type": "code",
   "execution_count": 200,
   "metadata": {},
   "outputs": [],
   "source": [
    "group_1_edge.drop('business', axis = 1, inplace = True)\n",
    "group_2_edge.drop('business', axis = 1, inplace = True)\n",
    "group_3_edge.drop('business', axis = 1, inplace = True)\n",
    "group_4_edge.drop('business', axis = 1, inplace = True)\n",
    "group_5_edge.drop('business', axis = 1, inplace = True)"
   ]
  },
  {
   "cell_type": "code",
   "execution_count": 201,
   "metadata": {},
   "outputs": [],
   "source": [
    "group_1_node.to_csv('group_1_node.net',sep=' ', header = False)\n",
    "group_2_node.to_csv('group_2_node.net',sep=' ', header = False)\n",
    "group_3_node.to_csv('group_3_node.net',sep=' ', header = False)\n",
    "group_4_node.to_csv('group_4_node.net',sep=' ', header = False)\n",
    "group_5_node.to_csv('group_5_node.net',sep=' ', header = False)\n",
    "\n",
    "group_1_edge.to_csv('group_1_edge.net',sep=' ', header = False)\n",
    "group_2_edge.to_csv('group_2_edge.net',sep=' ', header = False)\n",
    "group_3_edge.to_csv('group_3_edge.net',sep=' ', header = False)\n",
    "group_4_edge.to_csv('group_4_edge.net',sep=' ', header = False)\n",
    "group_5_edge.to_csv('group_5_edge.net',sep=' ', header = False)"
   ]
  },
  {
   "cell_type": "code",
   "execution_count": null,
   "metadata": {},
   "outputs": [],
   "source": []
  }
 ],
 "metadata": {
  "kernelspec": {
   "display_name": "Python 3",
   "language": "python",
   "name": "python3"
  },
  "language_info": {
   "codemirror_mode": {
    "name": "ipython",
    "version": 3
   },
   "file_extension": ".py",
   "mimetype": "text/x-python",
   "name": "python",
   "nbconvert_exporter": "python",
   "pygments_lexer": "ipython3",
   "version": "3.7.3"
  }
 },
 "nbformat": 4,
 "nbformat_minor": 2
}

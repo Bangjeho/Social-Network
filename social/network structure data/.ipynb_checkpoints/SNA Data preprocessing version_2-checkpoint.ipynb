{
 "cells": [
  {
   "cell_type": "code",
   "execution_count": 287,
   "metadata": {},
   "outputs": [],
   "source": [
    "import numpy as np\n",
    "import pandas as pd"
   ]
  },
  {
   "cell_type": "code",
   "execution_count": 288,
   "metadata": {},
   "outputs": [],
   "source": [
    "data = pd.read_csv(\"acquisitions.csv\")"
   ]
  },
  {
   "cell_type": "code",
   "execution_count": 289,
   "metadata": {},
   "outputs": [],
   "source": [
    "dropData = ['AcquisitionID','AcquisitionMonth','AcquisitionMonthDate',\n",
    "           'Company','Value (USD)','Derived products','Country']"
   ]
  },
  {
   "cell_type": "code",
   "execution_count": 290,
   "metadata": {},
   "outputs": [],
   "source": [
    "data.drop(dropData, axis = 1, inplace = True)"
   ]
  },
  {
   "cell_type": "code",
   "execution_count": 291,
   "metadata": {},
   "outputs": [],
   "source": [
    "data['count'] = 1\n",
    "# data.groupby(['Business','ParentCompany']).count()"
   ]
  },
  {
   "cell_type": "code",
   "execution_count": 292,
   "metadata": {},
   "outputs": [
    {
     "name": "stdout",
     "output_type": "stream",
     "text": [
      "<class 'pandas.core.frame.DataFrame'>\n",
      "RangeIndex: 916 entries, 0 to 915\n",
      "Data columns (total 4 columns):\n",
      "AcquisitionYear    916 non-null int64\n",
      "Business           916 non-null object\n",
      "ParentCompany      916 non-null object\n",
      "count              916 non-null int64\n",
      "dtypes: int64(2), object(2)\n",
      "memory usage: 28.7+ KB\n"
     ]
    }
   ],
   "source": [
    "data.info()"
   ]
  },
  {
   "cell_type": "code",
   "execution_count": 293,
   "metadata": {},
   "outputs": [],
   "source": [
    "group_1 = data[data.AcquisitionYear >= 1988]\n",
    "group_1 = group_1[group_1.AcquisitionYear <=1999]\n",
    "\n",
    "group_2 = data[data.AcquisitionYear >= 2000]\n",
    "group_2 = group_2[group_2.AcquisitionYear <=2004]\n",
    "\n",
    "group_3 = data[data.AcquisitionYear >= 2005]\n",
    "group_3 = group_3[group_3.AcquisitionYear <=2009]\n",
    "\n",
    "group_4 = data[data.AcquisitionYear >= 2010]\n",
    "group_4 = group_1[group_1.AcquisitionYear <=2014]\n",
    "\n",
    "group_5 = data[data.AcquisitionYear >= 2015]"
   ]
  },
  {
   "cell_type": "code",
   "execution_count": 294,
   "metadata": {},
   "outputs": [],
   "source": [
    "group_1.reset_index(drop = True, inplace = True)\n",
    "group_1.drop('AcquisitionYear',axis = 1, inplace = True)\n",
    "group_2.reset_index(drop = True, inplace = True)\n",
    "group_2.drop('AcquisitionYear',axis = 1, inplace = True)\n",
    "group_3.reset_index(drop = True, inplace = True)\n",
    "group_3.drop('AcquisitionYear',axis = 1, inplace = True)\n",
    "group_4.reset_index(drop = True, inplace = True)\n",
    "group_4.drop('AcquisitionYear',axis = 1, inplace = True)\n",
    "group_5.reset_index(drop = True, inplace = True)\n",
    "group_5.drop('AcquisitionYear',axis = 1, inplace = True)"
   ]
  },
  {
   "cell_type": "code",
   "execution_count": 295,
   "metadata": {},
   "outputs": [],
   "source": [
    "parentCompany = pd.DataFrame({'Business' :['Apple','Microsoft','IBM',\n",
    "                              'Facebook','Twitter','Google','Yahoo'],\n",
    "                             'ParentCompany' : ['Apple','Microsoft','IBM',\n",
    "                              'Facebook','Twitter','Google','Yahoo'],\n",
    "                             'count':1}).groupby(['Business']).count()"
   ]
  },
  {
   "cell_type": "code",
   "execution_count": 296,
   "metadata": {},
   "outputs": [],
   "source": [
    "group_1_node = group_1.groupby(['Business']).sum()\n",
    "group_2_node = group_2.groupby(['Business']).sum()\n",
    "group_3_node = group_3.groupby(['Business']).sum()\n",
    "group_4_node = group_4.groupby(['Business']).sum()\n",
    "group_5_node = group_5.groupby(['Business']).sum()"
   ]
  },
  {
   "cell_type": "code",
   "execution_count": 297,
   "metadata": {},
   "outputs": [
    {
     "name": "stderr",
     "output_type": "stream",
     "text": [
      "C:\\Users\\entity\\Anaconda3\\lib\\site-packages\\ipykernel_launcher.py:1: FutureWarning: Sorting because non-concatenation axis is not aligned. A future version\n",
      "of pandas will change to not sort by default.\n",
      "\n",
      "To accept the future behavior, pass 'sort=False'.\n",
      "\n",
      "To retain the current behavior and silence the warning, pass 'sort=True'.\n",
      "\n",
      "  \"\"\"Entry point for launching an IPython kernel.\n",
      "C:\\Users\\entity\\Anaconda3\\lib\\site-packages\\ipykernel_launcher.py:2: FutureWarning: Sorting because non-concatenation axis is not aligned. A future version\n",
      "of pandas will change to not sort by default.\n",
      "\n",
      "To accept the future behavior, pass 'sort=False'.\n",
      "\n",
      "To retain the current behavior and silence the warning, pass 'sort=True'.\n",
      "\n",
      "  \n",
      "C:\\Users\\entity\\Anaconda3\\lib\\site-packages\\ipykernel_launcher.py:3: FutureWarning: Sorting because non-concatenation axis is not aligned. A future version\n",
      "of pandas will change to not sort by default.\n",
      "\n",
      "To accept the future behavior, pass 'sort=False'.\n",
      "\n",
      "To retain the current behavior and silence the warning, pass 'sort=True'.\n",
      "\n",
      "  This is separate from the ipykernel package so we can avoid doing imports until\n",
      "C:\\Users\\entity\\Anaconda3\\lib\\site-packages\\ipykernel_launcher.py:4: FutureWarning: Sorting because non-concatenation axis is not aligned. A future version\n",
      "of pandas will change to not sort by default.\n",
      "\n",
      "To accept the future behavior, pass 'sort=False'.\n",
      "\n",
      "To retain the current behavior and silence the warning, pass 'sort=True'.\n",
      "\n",
      "  after removing the cwd from sys.path.\n",
      "C:\\Users\\entity\\Anaconda3\\lib\\site-packages\\ipykernel_launcher.py:5: FutureWarning: Sorting because non-concatenation axis is not aligned. A future version\n",
      "of pandas will change to not sort by default.\n",
      "\n",
      "To accept the future behavior, pass 'sort=False'.\n",
      "\n",
      "To retain the current behavior and silence the warning, pass 'sort=True'.\n",
      "\n",
      "  \"\"\"\n"
     ]
    }
   ],
   "source": [
    "group_1_node = pd.concat([parentCompany,group_1_node])\n",
    "group_2_node = pd.concat([parentCompany,group_2_node])\n",
    "group_3_node = pd.concat([parentCompany,group_3_node])\n",
    "group_4_node = pd.concat([parentCompany,group_4_node])\n",
    "group_5_node = pd.concat([parentCompany,group_5_node])"
   ]
  },
  {
   "cell_type": "code",
   "execution_count": 298,
   "metadata": {},
   "outputs": [],
   "source": [
    "group_1_node['index'] = np.arange(1,len(group_1_node)+1)\n",
    "group_2_node['index'] = np.arange(1,len(group_2_node)+1)\n",
    "group_3_node['index'] = np.arange(1,len(group_3_node)+1)\n",
    "group_4_node['index'] = np.arange(1,len(group_4_node)+1)\n",
    "group_5_node['index'] = np.arange(1,len(group_5_node)+1)"
   ]
  },
  {
   "cell_type": "code",
   "execution_count": 299,
   "metadata": {},
   "outputs": [],
   "source": [
    "group_1_node.reset_index(inplace = True, drop = False)\n",
    "group_2_node.reset_index(inplace = True, drop = False)\n",
    "group_3_node.reset_index(inplace = True, drop = False)\n",
    "group_4_node.reset_index(inplace = True, drop = False)\n",
    "group_5_node.reset_index(inplace = True, drop = False)"
   ]
  },
  {
   "cell_type": "code",
   "execution_count": 300,
   "metadata": {},
   "outputs": [],
   "source": [
    "group_1_node.set_index('index', inplace = True)\n",
    "group_2_node.set_index('index', inplace = True)\n",
    "group_3_node.set_index('index', inplace = True)\n",
    "group_4_node.set_index('index', inplace = True)\n",
    "group_5_node.set_index('index', inplace = True)"
   ]
  },
  {
   "cell_type": "code",
   "execution_count": 301,
   "metadata": {},
   "outputs": [],
   "source": [
    "group_1_vec = group_1_node[['count']]\n",
    "group_2_vec = group_2_node[['count']]\n",
    "group_3_vec = group_3_node[['count']]\n",
    "group_4_vec = group_4_node[['count']]\n",
    "group_5_vec = group_5_node[['count']]"
   ]
  },
  {
   "cell_type": "code",
   "execution_count": 302,
   "metadata": {},
   "outputs": [],
   "source": [
    "group_1_node.drop(['ParentCompany','count'],axis = 1 , inplace = True)\n",
    "group_2_node.drop(['ParentCompany','count'],axis = 1 , inplace = True)\n",
    "group_3_node.drop(['ParentCompany','count'],axis = 1 , inplace = True)\n",
    "group_4_node.drop(['ParentCompany','count'],axis = 1 , inplace = True)\n",
    "group_5_node.drop(['ParentCompany','count'],axis = 1 , inplace = True)"
   ]
  },
  {
   "cell_type": "code",
   "execution_count": 303,
   "metadata": {},
   "outputs": [],
   "source": [
    "group_1_node.to_csv(\"group_1_node.txt\", header = False, sep = \" \")\n",
    "group_2_node.to_csv(\"group_2_node.txt\", header = False, sep = \" \")\n",
    "group_3_node.to_csv(\"group_3_node.txt\", header = False, sep = \" \")\n",
    "group_4_node.to_csv(\"group_4_node.txt\", header = False, sep = \" \")\n",
    "group_5_node.to_csv(\"group_5_node.txt\", header = False, sep = \" \") \n",
    "\n",
    "group_1_vec.to_csv('group_1_vec.txt',header = False, sep = \" \",index = False)\n",
    "group_2_vec.to_csv('group_2_vec.txt',header = False, sep = \" \",index = False)\n",
    "group_3_vec.to_csv('group_3_vec.txt',header = False, sep = \" \",index = False)\n",
    "group_4_vec.to_csv('group_4_vec.txt',header = False, sep = \" \",index = False)\n",
    "group_5_vec.to_csv('group_5_vec.txt',header = False, sep = \" \",index = False)"
   ]
  },
  {
   "cell_type": "code",
   "execution_count": null,
   "metadata": {},
   "outputs": [],
   "source": []
  }
 ],
 "metadata": {
  "kernelspec": {
   "display_name": "Python 3",
   "language": "python",
   "name": "python3"
  },
  "language_info": {
   "codemirror_mode": {
    "name": "ipython",
    "version": 3
   },
   "file_extension": ".py",
   "mimetype": "text/x-python",
   "name": "python",
   "nbconvert_exporter": "python",
   "pygments_lexer": "ipython3",
   "version": "3.7.3"
  }
 },
 "nbformat": 4,
 "nbformat_minor": 2
}
